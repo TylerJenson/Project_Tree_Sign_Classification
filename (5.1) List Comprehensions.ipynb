{
 "cells": [
  {
   "cell_type": "code",
   "execution_count": 1,
   "id": "4b8831b9",
   "metadata": {},
   "outputs": [],
   "source": [
    "# example 1 (1 of 2) --> this tactic takes up space, and there is an easier way (not list comprehension)\n",
    "\n",
    "numbers = []\n",
    "for i in range(1,101):\n",
    "    numbers.append(i)"
   ]
  },
  {
   "cell_type": "code",
   "execution_count": 2,
   "id": "4b9a1083",
   "metadata": {},
   "outputs": [
    {
     "name": "stdout",
     "output_type": "stream",
     "text": [
      "Numbers: [1, 2, 3, 4, 5, 6, 7, 8, 9, 10, 11, 12, 13, 14, 15, 16, 17, 18, 19, 20, 21, 22, 23, 24, 25, 26, 27, 28, 29, 30, 31, 32, 33, 34, 35, 36, 37, 38, 39, 40, 41, 42, 43, 44, 45, 46, 47, 48, 49, 50, 51, 52, 53, 54, 55, 56, 57, 58, 59, 60, 61, 62, 63, 64, 65, 66, 67, 68, 69, 70, 71, 72, 73, 74, 75, 76, 77, 78, 79, 80, 81, 82, 83, 84, 85, 86, 87, 88, 89, 90, 91, 92, 93, 94, 95, 96, 97, 98, 99, 100]\n"
     ]
    }
   ],
   "source": [
    "# example 1 (2 of 2)\n",
    "print('Numbers:', numbers)"
   ]
  },
  {
   "cell_type": "code",
   "execution_count": 3,
   "id": "2ad64cdf",
   "metadata": {},
   "outputs": [],
   "source": [
    "# List Comprehension -- example 2\n",
    "numbers = [i for i in range(1, 101)]\n",
    "\n",
    "# the 'i' (control variable) before the 'for' keyword is very important\n",
    "# if you don't have the 'i' in the front, you will get a syntax error"
   ]
  },
  {
   "cell_type": "code",
   "execution_count": 4,
   "id": "8f7ae905",
   "metadata": {},
   "outputs": [
    {
     "name": "stdout",
     "output_type": "stream",
     "text": [
      "numbers: [1, 2, 3, 4, 5, 6, 7, 8, 9, 10, 11, 12, 13, 14, 15, 16, 17, 18, 19, 20, 21, 22, 23, 24, 25, 26, 27, 28, 29, 30, 31, 32, 33, 34, 35, 36, 37, 38, 39, 40, 41, 42, 43, 44, 45, 46, 47, 48, 49, 50, 51, 52, 53, 54, 55, 56, 57, 58, 59, 60, 61, 62, 63, 64, 65, 66, 67, 68, 69, 70, 71, 72, 73, 74, 75, 76, 77, 78, 79, 80, 81, 82, 83, 84, 85, 86, 87, 88, 89, 90, 91, 92, 93, 94, 95, 96, 97, 98, 99, 100]\n"
     ]
    }
   ],
   "source": [
    "print('numbers:', numbers)"
   ]
  },
  {
   "cell_type": "code",
   "execution_count": 5,
   "id": "48a6a47b",
   "metadata": {},
   "outputs": [],
   "source": [
    "# List Comprehension -- example 3\n",
    "# make a list from 1 - 100, but skip numbers that are divisable by 3\n",
    "\n",
    "numbers = [i for i in range(1, 201)if i % 3 !=0]"
   ]
  },
  {
   "cell_type": "code",
   "execution_count": 6,
   "id": "1f1d3a7d",
   "metadata": {},
   "outputs": [
    {
     "name": "stdout",
     "output_type": "stream",
     "text": [
      "numbers: [1, 2, 4, 5, 7, 8, 10, 11, 13, 14, 16, 17, 19, 20, 22, 23, 25, 26, 28, 29, 31, 32, 34, 35, 37, 38, 40, 41, 43, 44, 46, 47, 49, 50, 52, 53, 55, 56, 58, 59, 61, 62, 64, 65, 67, 68, 70, 71, 73, 74, 76, 77, 79, 80, 82, 83, 85, 86, 88, 89, 91, 92, 94, 95, 97, 98, 100, 101, 103, 104, 106, 107, 109, 110, 112, 113, 115, 116, 118, 119, 121, 122, 124, 125, 127, 128, 130, 131, 133, 134, 136, 137, 139, 140, 142, 143, 145, 146, 148, 149, 151, 152, 154, 155, 157, 158, 160, 161, 163, 164, 166, 167, 169, 170, 172, 173, 175, 176, 178, 179, 181, 182, 184, 185, 187, 188, 190, 191, 193, 194, 196, 197, 199, 200]\n"
     ]
    }
   ],
   "source": [
    "print('numbers:', numbers)"
   ]
  },
  {
   "cell_type": "code",
   "execution_count": 7,
   "id": "031db96c",
   "metadata": {},
   "outputs": [],
   "source": [
    "# List Comprehension -- example 4\n",
    "# make a list that has alternating 101010... and so on list that equal fifty 1's and fifty 0's\n",
    "\n",
    "numbers = [0 if i % 2 == 0 else 1 for i in range(100)]"
   ]
  },
  {
   "cell_type": "code",
   "execution_count": 8,
   "id": "f1eec0f1",
   "metadata": {},
   "outputs": [
    {
     "name": "stdout",
     "output_type": "stream",
     "text": [
      "numbers: [0, 1, 0, 1, 0, 1, 0, 1, 0, 1, 0, 1, 0, 1, 0, 1, 0, 1, 0, 1, 0, 1, 0, 1, 0, 1, 0, 1, 0, 1, 0, 1, 0, 1, 0, 1, 0, 1, 0, 1, 0, 1, 0, 1, 0, 1, 0, 1, 0, 1, 0, 1, 0, 1, 0, 1, 0, 1, 0, 1, 0, 1, 0, 1, 0, 1, 0, 1, 0, 1, 0, 1, 0, 1, 0, 1, 0, 1, 0, 1, 0, 1, 0, 1, 0, 1, 0, 1, 0, 1, 0, 1, 0, 1, 0, 1, 0, 1, 0, 1]\n"
     ]
    }
   ],
   "source": [
    "print('numbers:', numbers)"
   ]
  },
  {
   "cell_type": "code",
   "execution_count": 9,
   "id": "49bcc877",
   "metadata": {},
   "outputs": [],
   "source": [
    "# nested list comprehension to initialize a multi dimensional list\n",
    "# let's say we want to create the following table, how do we do that? (next cell)\n",
    "\n",
    "# 1 2 3 4 5\n",
    "# 1 2 3 4 5\n",
    "# 1 2 3 4 5\n",
    "# 1 2 3 4 5\n",
    "# 1 2 3 4 5"
   ]
  },
  {
   "cell_type": "code",
   "execution_count": 12,
   "id": "fca7312b",
   "metadata": {},
   "outputs": [
    {
     "name": "stdout",
     "output_type": "stream",
     "text": [
      "[1, 2, 3, 4, 5]\n"
     ]
    }
   ],
   "source": [
    "table = [i for i in range(1,6)] # this is how you would create 1 line of it\n",
    "print(table)"
   ]
  },
  {
   "cell_type": "code",
   "execution_count": 13,
   "id": "1e19d019",
   "metadata": {},
   "outputs": [
    {
     "name": "stdout",
     "output_type": "stream",
     "text": [
      "[[1, 2, 3, 4, 5], [1, 2, 3, 4, 5], [1, 2, 3, 4, 5], [1, 2, 3, 4, 5], [1, 2, 3, 4, 5]]\n"
     ]
    }
   ],
   "source": [
    "table = [[i for i in range(1,6)] for j in range (5)] # nested the original line, and added the 'for j'\n",
    "print(table)\n",
    "\n",
    "# notice how instead of putting the control variable 'j' in front of the 'for' keyword, it's the nested list\n",
    "    # what it's saying --> repeat this nested list, until we reach the value of the range (5)"
   ]
  },
  {
   "cell_type": "code",
   "execution_count": null,
   "id": "ef692d05",
   "metadata": {},
   "outputs": [],
   "source": []
  }
 ],
 "metadata": {
  "kernelspec": {
   "display_name": "Python 3 (ipykernel)",
   "language": "python",
   "name": "python3"
  },
  "language_info": {
   "codemirror_mode": {
    "name": "ipython",
    "version": 3
   },
   "file_extension": ".py",
   "mimetype": "text/x-python",
   "name": "python",
   "nbconvert_exporter": "python",
   "pygments_lexer": "ipython3",
   "version": "3.10.9"
  }
 },
 "nbformat": 4,
 "nbformat_minor": 5
}
